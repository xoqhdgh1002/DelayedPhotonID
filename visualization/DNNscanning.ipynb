{
 "cells": [
  {
   "cell_type": "code",
   "execution_count": 1,
   "metadata": {},
   "outputs": [
    {
     "name": "stdout",
     "output_type": "stream",
     "text": [
      "Welcome to JupyROOT 6.18/02\n"
     ]
    }
   ],
   "source": [
    "import ROOT as rt\n",
    "import numpy as np\n",
    "import array\n",
    "import plotLib.tdrstyle as tdrstyle\n",
    "import plotLib.CMS_lumi as CMS_lumi\n",
    "import re\n",
    "\n",
    "import matplotlib.pyplot as plt\n",
    "\n",
    "%load_ext autoreload\n",
    "%autoreload 2\n",
    "\n",
    "tdrstyle.setTDRStyle()\n",
    "rt.gStyle.SetOptStat(0)"
   ]
  },
  {
   "cell_type": "markdown",
   "metadata": {},
   "source": [
    "# First scan the baseline training"
   ]
  },
  {
   "cell_type": "code",
   "execution_count": 2,
   "metadata": {},
   "outputs": [],
   "source": [
    "#indir = '/storage/user/qnguyen/DelayedPhoton/CMSSW_10_6_6/src/DelayedPhotonID/deployment/output_fullbkg_cutBothPho/'\n",
    "#indir = '/storage/user/qnguyen/DelayedPhoton/CMSSW_10_6_6/src/DelayedPhotonID/deployment/output_minimalCut_wPt_decay20_highCtau/'\n",
    "indir = '/storage/user/qnguyen/DelayedPhoton/CMSSW_10_6_6/src/DelayedPhotonID/deployment/output_baselineCut_noTrigger/'\n",
    "data_name = indir+'/DelayedPhoton_DoubleEG_2016All_GoodLumi.root'\n",
    "#signal_name = indir+'/DelayedPhoton_GMSB_L250TeV_Ctau200cm_13TeV-pythia8.root'\n",
    "signal_name = '/storage/user/qnguyen/DelayedPhoton/CMSSW_10_6_6/src/DelayedPhotonID/deployment/GMSB_L-250TeV_Ctau-200cm_13TeV-pythia8.root'\n",
    "\n",
    "# Boundary \n",
    "#MET_boundary = 250.0\n",
    "#time_boundary = 0.0\n",
    "MET_boundary = 100.0\n",
    "time_boundary = 1.5\n",
    "\n",
    "lumi_2016 = 35922.0\n",
    "lumi_2017 = 41530.0\n",
    "lumi = lumi_2016\n",
    "\n",
    "event_cut = 'n_Jets > 2 && n_Photons == 2'\n",
    "             \n",
    "trigger_cut = ' && HLTDecision[81] == 1'\n",
    "\n",
    "inclusive_trigger_cut = ' && (HLTDecision[80] == 1 ||\\\n",
    "                              HLTDecision[81] == 1 ||\\\n",
    "                              HLTDecision[82] == 1 ||\\\n",
    "                              HLTDecision[84] == 1 ||\\\n",
    "                              HLTDecision[85] == 1 ||\\\n",
    "                              HLTDecision[86] == 1 ||\\\n",
    "                              HLTDecision[87] == 1 ||\\\n",
    "                              HLTDecision[101] == 1 ||\\\n",
    "                              HLTDecision[102] == 1 ||\\\n",
    "                              HLTDecision[103] == 1 ||\\\n",
    "                              HLTDecision[104] == 1 ||\\\n",
    "                              HLTDecision[112] == 1 ||\\\n",
    "                              HLTDecision[116] == 1 ||\\\n",
    "                              HLTDecision[220] == 1 ||\\\n",
    "                              HLTDecision[221] == 1\\\n",
    "                              )'\n",
    "\n",
    "MET_cut = \" && Flag_HBHENoiseFilter == 1 \\\n",
    "            &&Flag_HBHEIsoNoiseFilter ==1 \\\n",
    "            && Flag_goodVertices == 1 \\\n",
    "            && Flag_eeBadScFilter == 1 \\\n",
    "            && Flag_EcalDeadCellTriggerPrimitiveFilter == 1 \\\n",
    "            && Flag_CSCTightHaloFilter == 1  \\\n",
    "            && Flag_badMuonFilter == 1 \\\n",
    "            && Flag_badGlobalMuonFilter == 0 \\\n",
    "            && Flag_duplicateMuonFilter ==0\"\n",
    "\n",
    "pho_cut = '&& pho1Pt > 70 && abs(pho1Eta)<1.4442 \\\n",
    "            && pho1passEleVeto \\\n",
    "            && pho1R9 > 0.85 && abs(pho1SigmaIetaIeta) < 0.024 '\n",
    "\n",
    "# && abs(pho1ecalPFClusterIso) < 7.5 \\\n",
    "#             && abs(pho1hcalPFClusterIso) < 5.0 \\\n",
    "#             && abs(pho1trkSumPtHollowConeDR03) < 7.5 \n",
    "# && abs(pho1HoverE) < 0.08 \\\n",
    "#             \\\n",
    "\n",
    "pho_cutbasedID = '&& pho1Pt > 70 \\\n",
    "                && pho1R9 > 0.9 \\\n",
    "                && abs(pho1Eta)<1.4442 \\\n",
    "                && pho1passEleVeto \\\n",
    "                && pho1Sminor<0.4 \\\n",
    "                && pho1passSigmaIetaIetaTight \\\n",
    "                && pho1passHoverETight \\\n",
    "                && pho1passSmajorTight \\\n",
    "                && pho1passIsoTight_comboIso'\n",
    "\n",
    "pho2_cut = '&& pho2SigmaIetaIeta < 0.03 \\\n",
    "            && pho2HoverE < 0.1 \\\n",
    "            && pho2ecalPFClusterIso < 30.0 \\\n",
    "            && pho2sumNeutralHadronEt < 30.0 \\\n",
    "            && pho2trkSumPtHollowConeDR03 < 30.0'\n",
    "\n",
    "baseline_cut = event_cut + trigger_cut + pho_cut + MET_cut + pho2_cut\n",
    "baseline_inclusive_cut = event_cut + inclusive_trigger_cut + pho_cut + MET_cut + pho2_cut\n",
    "cut_based_id = event_cut + trigger_cut + pho_cutbasedID + MET_cut + pho2_cut\n",
    "cut_based_id_inclusive = event_cut + inclusive_trigger_cut + pho_cutbasedID + MET_cut + pho2_cut\n",
    "\n",
    "\n",
    "def getXS(sample):\n",
    "    with open(\"/storage/user/qnguyen/DelayedPhoton/CMSSW_10_6_6/src/DelayedPhotonID/data/all_bkg_back.list\", \"r\") as xsfile:\n",
    "        allxs = xsfile.readlines()\n",
    "        for xs in allxs:\n",
    "            if xs.split(' ')[0] in sample:\n",
    "                return xs.split(' ')[-1].replace('\\n','')\n",
    "    print(\"[WARNING] {} cross section not found\".format(sample))\n",
    "    return 0\n",
    "\n",
    "def extract_num(string):\n",
    "    sample_num = list(map(int, re.findall(r'\\d+', string.split('/')[-1])))\n",
    "    if len(sample_num) > 1:\n",
    "        sample_lambda, sample_ctau = sample_num[0], sample_num[1]\n",
    "        if sample_ctau == 0:\n",
    "            if \"0_001cm\" in string:\n",
    "                sample_ctau = 0.001\n",
    "            elif \"0_01cm\" in string:\n",
    "                sample_ctau = 0.01\n",
    "            elif \"0_1cm\" in string:\n",
    "                sample_ctau = 0.1\n",
    "\n",
    "        return sample_lambda, sample_ctau\n",
    "    else:\n",
    "        print(\"Can't extract number from {}\".format(string))\n",
    "        return 0, 0\n",
    "\n",
    "def getSignalXS(sample):\n",
    "    \"\"\"Get cross section x BR for signal MC\"\"\"\n",
    "    sample_lambda, sample_ctau = extract_num(sample)\n",
    "\n",
    "    dat_file = \"/storage/user/qnguyen/DelayedPhoton/CMSSW_10_6_6/src/DelayedPhotonID/data/XsecBR.dat\"\n",
    "    with open(dat_file, \"r\") as xsfile:\n",
    "        allxs = xsfile.readlines()\n",
    "        for xs in allxs[1:]:\n",
    "            this_lambda, this_ctau = extract_num(xs)\n",
    "            if sample_lambda == this_lambda and sample_ctau == this_ctau:\n",
    "                return float(xs.split(' ')[4])\n",
    "    print(\"[WARNING] {} cross section not found in {}\".format(sample, dat_file))\n",
    "    return 0"
   ]
  },
  {
   "cell_type": "markdown",
   "metadata": {},
   "source": [
    "### Get an example of time and MET templates"
   ]
  },
  {
   "cell_type": "code",
   "execution_count": 3,
   "metadata": {},
   "outputs": [
    {
     "name": "stderr",
     "output_type": "stream",
     "text": [
      "Info in <TCanvas::MakeDefCanvas>:  created default TCanvas with name c1\n",
      "Warning in <TCanvas::Constructor>: Deleting canvas with same name: c1\n"
     ]
    },
    {
     "data": {
      "image/png": "[encoded data removed]",
      "text/plain": [
       "<IPython.core.display.Image object>"
      ]
     },
     "metadata": {},
     "output_type": "display_data"
    },
    {
     "data": {
      "image/png": "[encoded data removed]",
      "text/plain": [
       "<IPython.core.display.Image object>"
      ]
     },
     "metadata": {},
     "output_type": "display_data"
    }
   ],
   "source": [
    "data_file = rt.TFile.Open(data_name, \"READ\")\n",
    "signal_file = rt.TFile.Open(signal_name, \"READ\")\n",
    "data_tree = data_file.Get(\"DelayedPhoton\")\n",
    "signal_tree = signal_file.Get(\"DelayedPhoton\")\n",
    "tmp_sw = signal_file.Get(\"SumWeights\")\n",
    "sumWeights = tmp_sw.Integral()\n",
    "\n",
    "data_MET_old = rt.TH1F(\"data_MET_old\", \"; p_{T}^{miss} (GeV)\", 80, 0, 1000)\n",
    "data_MET_inclusive = rt.TH1F(\"data_MET_inclusive\", \"; p_{T}^{miss} (GeV)\", 80, 0, 1000)\n",
    "\n",
    "data_time_old = rt.TH1F(\"data_time_old\", \"; #gamma_{cluster time} (ns)\", 80, -2, 25)\n",
    "data_time_inclusive = rt.TH1F(\"data_time_inclusive\", \"; #gamma_{cluster time} (ns)\", 80, -2, 25)\n",
    "\n",
    "\n",
    "data_tree.Draw(\"t1MET >> data_MET_old\", baseline_cut+\"&& (pho1ClusterTime_SmearToData) < 1.0\")\n",
    "data_MET_old.SetDirectory(0)\n",
    "data_tree.Draw(\"pho1ClusterTime_SmearToData >> data_time_old\", baseline_cut+\"&& t1MET < 100\")\n",
    "data_time_old.SetDirectory(0)\n",
    "\n",
    "\n",
    "data_tree.Draw(\"t1MET >> data_MET_inclusive\", baseline_inclusive_cut+\"&& (pho1ClusterTime_SmearToData) < 1.0\")\n",
    "data_MET_inclusive.SetDirectory(0)\n",
    "data_tree.Draw(\"pho1ClusterTime_SmearToData >> data_time_inclusive\", baseline_inclusive_cut+\"&& t1MET < 100\")\n",
    "data_time_inclusive.SetDirectory(0)\n",
    "\n",
    "CMS_lumi.extraText = \"Preliminary\"\n",
    "CMS_lumi.lumi_sqrtS = \"35.9 fb^{-1} (13 TeV)\"\n",
    "iPos = 0\n",
    "CMS_lumi.relPosX = 0.12\n",
    "\n",
    "H_ref = 600;\n",
    "W_ref = 800;\n",
    "W = W_ref\n",
    "H  = H_ref\n",
    "iPeriod = 0\n",
    "\n",
    "# references for T, B, L, R\n",
    "T = 0.1*H_ref\n",
    "B = 0.2*H_ref\n",
    "L = 0.12*W_ref\n",
    "R = 0.04*W_ref\n",
    "\n",
    "### MET template\n",
    "c1 = rt.TCanvas(\"c1\", \"\", 50, 50, W, H)\n",
    "c1.cd()\n",
    "c1.SetLeftMargin(L/W)\n",
    "c1.SetRightMargin(R/W)\n",
    "c1.SetTopMargin(T/W)\n",
    "c1.SetBottomMargin(B/W)\n",
    "#data_MET.SetFillColor(rt.kAzure+8)\n",
    "data_MET_inclusive.SetLineColor(rt.kAzure+9)\n",
    "data_MET_inclusive.SetLineWidth(2)\n",
    "data_MET_inclusive.GetYaxis().SetTitle(\"Normalized Events\")\n",
    "data_MET_inclusive.GetYaxis().SetTitleOffset(1.)\n",
    "#data_MET_inclusive.Scale(1./data_MET_inclusive.Integral())\n",
    "data_MET_inclusive.Draw(\"hist\")\n",
    "data_MET_old.SetLineColor(rt.kOrange+10)\n",
    "data_MET_old.SetLineWidth(2)\n",
    "#data_MET_old.Scale(1./data_MET_old.Integral())\n",
    "data_MET_old.Draw(\"hist same\")\n",
    "rt.gPad.SetLogy()\n",
    "c1.Draw()\n",
    "CMS_lumi.CMS_lumi(c1, iPeriod, iPos)\n",
    "c1.cd()\n",
    "line1 = rt.TLine(MET_boundary, 0, MET_boundary, 2e4)\n",
    "line1.SetLineStyle(7)\n",
    "line1.SetLineWidth(3)\n",
    "line1.Draw()\n",
    "\n",
    "latex = rt.TLatex()\n",
    "latex.SetTextFont(42)\n",
    "latex.SetTextAngle(0)\n",
    "latex.SetTextColor(rt.kBlack)\n",
    "latex.SetTextSize(0.045)\n",
    "latex.SetTextAlign(12)\n",
    "latex.DrawLatexNDC(0.6, 0.8,\"#gamma_{cluster time} < 1 ns\")\n",
    "\n",
    "\n",
    "leg1 = rt.TLegend(0.5,0.5,0.9,0.7)\n",
    "leg1.SetBorderSize(0)\n",
    "leg1.AddEntry(data_MET_inclusive, \"Inclusive OR of 15 triggers\", \"fl\")\n",
    "leg1.AddEntry(data_MET_old, \"Trigger 81 only\", \"fl\")\n",
    "leg1.Draw()\n",
    "\n",
    "\n",
    "\n",
    "### Time template\n",
    "c2 = rt.TCanvas(\"c2\", \"\", 50, 50, W, H)\n",
    "c2.cd()\n",
    "c2.SetLeftMargin(L/W)\n",
    "c2.SetRightMargin(R/W)\n",
    "c2.SetTopMargin(T/W)\n",
    "c2.SetBottomMargin(B/W)\n",
    "#data_time.SetFillColor(rt.kAzure+8)\n",
    "data_time_inclusive.SetLineColor(rt.kAzure+9)\n",
    "data_time_inclusive.SetLineWidth(2)\n",
    "data_time_inclusive.GetYaxis().SetTitle(\"Normalized Events\")\n",
    "data_time_inclusive.GetYaxis().SetTitleOffset(1.)\n",
    "#data_time_inclusive.Scale(1./data_time_inclusive.Integral())\n",
    "data_time_inclusive.Draw(\"hist\")\n",
    "data_time_old.SetLineColor(rt.kOrange+10)\n",
    "data_time_old.SetLineWidth(2)\n",
    "#data_time_old.Scale(1./data_time_old.Integral())\n",
    "data_time_old.Draw(\"hist same\")\n",
    "rt.gPad.SetLogy()\n",
    "c2.Draw()\n",
    "CMS_lumi.CMS_lumi(c2, iPeriod, iPos)\n",
    "c2.cd()\n",
    "line2 = rt.TLine(time_boundary, 0, time_boundary, 1e4)\n",
    "line2.SetLineStyle(7)\n",
    "line2.SetLineWidth(3)\n",
    "line2.Draw()\n",
    "\n",
    "\n",
    "latex = rt.TLatex()\n",
    "latex.SetTextFont(42)\n",
    "latex.SetTextAngle(0)\n",
    "latex.SetTextColor(rt.kBlack)\n",
    "latex.SetTextSize(0.045)\n",
    "latex.SetTextAlign(12)\n",
    "latex.DrawLatexNDC(0.65, 0.8,\"p_{T}^{miss} < 100 GeV\")\n",
    "#latex.DrawLatexNDC(0.63, 0.65,\"N_{DA} = #frac{#gamma_{cluster time} > 1.5}{#gamma_{cluster time} < 1.5}\")\n",
    "\n",
    "\n",
    "leg2 = rt.TLegend(0.5,0.5,0.9,0.7)\n",
    "leg2.SetBorderSize(0)\n",
    "leg2.AddEntry(data_time_inclusive, \"Inclusive OR of 15 triggers\", \"fl\")\n",
    "leg2.AddEntry(data_time_old, \"Trigger 81 only\", \"fl\")\n",
    "leg2.Draw()"
   ]
  },
  {
   "cell_type": "code",
   "execution_count": 56,
   "metadata": {},
   "outputs": [
    {
     "name": "stdout",
     "output_type": "stream",
     "text": [
      "+-----+------+-------+-------+------+\n",
      "|     |  A   |   B   |   C   |  D   |\n",
      "+-----+------+-------+-------+------+\n",
      "| Obs | 3.43 | 26.19 | 10.61 | 1.91 |\n",
      "| Exp | 3.75 | 25.87 | 10.93 | 1.58 |\n",
      "+-----+------+-------+-------+------+\n",
      "p-value = 0.7488\n"
     ]
    },
    {
     "data": {
      "text/plain": [
       "0.7487591106473057"
      ]
     },
     "execution_count": 56,
     "metadata": {},
     "output_type": "execute_result"
    }
   ],
   "source": [
    "### Test for independence\n",
    "from prettytable import PrettyTable\n",
    "from scipy import stats\n",
    "\n",
    "def chsq(d, f):\n",
    "    # http://cousins.web.cern.ch/cousins/ongoodness6march2016.pdf\n",
    "    return 2 * (f - d + d * np.log(d/f))\n",
    "\n",
    "def chisquare_test(A, B, C, D):\n",
    "    N = A + B + C + D\n",
    "    rowAD = A + D\n",
    "    rowBC = B + C\n",
    "    colAB = A + B\n",
    "    colCD = C + D\n",
    "    A_exp = rowAD * colAB / N\n",
    "    B_exp = rowBC * colAB / N\n",
    "    C_exp = rowBC * colCD / N\n",
    "    D_exp = rowAD * colCD / N\n",
    "    tb = PrettyTable([\"\",\"A\",\"B\",\"C\",\"D\"])\n",
    "    tb.add_row([\"Obs\",\"{:.2f}\".format(A),\"{:.2f}\".format(B),\"{:.2f}\".format(C),\"{:.2f}\".format(D)])\n",
    "    tb.add_row([\"Exp\",\"{:.2f}\".format(A_exp),\"{:.2f}\".format(B_exp),\"{:.2f}\".format(C_exp),\"{:.2f}\".format(D_exp)])\n",
    "    print(tb)\n",
    "    test_statistics = chsq(A, A_exp) + chsq(B, B_exp) + chsq(C, C_exp) + chsq(D, D_exp)\n",
    "    pval = 1 - stats.chi2.cdf(test_statistics, 1)\n",
    "    print(\"p-value = {:.4f}\".format(pval))\n",
    "    return pval\n",
    "#     ### Use built-in library\n",
    "#     doublecheck = stats.chisquare([A,B,C,D],[A_exp,B_exp,C_exp,D_exp],1)\n",
    "#     print(doublecheck)\n",
    "    \n",
    "chisquare_test(3.42968, 26.1895, 10.6087, 1.90507)\n"
   ]
  },
  {
   "cell_type": "markdown",
   "metadata": {},
   "source": [
    "### Using DNN score "
   ]
  },
  {
   "cell_type": "code",
   "execution_count": 4,
   "metadata": {},
   "outputs": [],
   "source": [
    "def getTransferFactor(DNN_threshold, baseline_cut):\n",
    "    # Return N_BA and N_DA\n",
    "    # Get the transfer factor\n",
    "    cut_timeCR = baseline_cut + \"&& pho1ClusterTime_SmearToData < 1.0 \\\n",
    "                                 && pho1DNN >= {DNN_threshold}\".format(DNN_threshold=DNN_threshold)\n",
    "    cut_below = cut_timeCR + \"&& t1MET < {MET_boundary}\".format(MET_boundary=MET_boundary)\n",
    "    cut_above = cut_timeCR + \"&& t1MET >= {MET_boundary}\".format(MET_boundary=MET_boundary)\n",
    "    MET_below = data_tree.GetEntries(cut_below)\n",
    "    MET_above = data_tree.GetEntries(cut_above)\n",
    "    if MET_above == 0 or MET_below == 0: return 0, 0\n",
    "    \n",
    "    N_BA = float(MET_above/MET_below)\n",
    "\n",
    "    cut_METCR = baseline_cut + \"&& t1MET < 100 \\\n",
    "                                && pho1DNN >= {DNN_threshold}\".format(DNN_threshold=DNN_threshold)\n",
    "    cut_below = cut_METCR + \"&& pho1ClusterTime_SmearToData < {time_boundary}\".format(time_boundary=time_boundary)\n",
    "    cut_above = cut_METCR + \"&& pho1ClusterTime_SmearToData >= {time_boundary}\".format(time_boundary=time_boundary)\n",
    "    time_below = data_tree.GetEntries(cut_below)\n",
    "    time_above = data_tree.GetEntries(cut_above)\n",
    "    if time_above == 0 or time_below == 0: return 0, 0\n",
    "    N_DA = float(time_above/time_below)\n",
    "    \n",
    "    return N_BA, N_DA\n",
    "\n",
    "\n",
    "def getBackgroundPrediction(DNN_threshold, N_BA, N_DA, baseline_cut):\n",
    "    # Get the bin prediction\n",
    "    cut_binA = baseline_cut \n",
    "    cut_binA += \" && pho1ClusterTime_SmearToData >= -2.0\"\n",
    "    cut_binA += \" && pho1ClusterTime_SmearToData <= {}\".format(time_boundary)\n",
    "    cut_binA += \" && t1MET <= {}\".format(MET_boundary)\n",
    "    cut_binA += \" && pho1DNN >= {}\".format(DNN_threshold)\n",
    "    binA = data_tree.GetEntries(cut_binA)\n",
    "    \n",
    "    binB_pred = binA * N_BA\n",
    "    binD_pred = binA * N_DA\n",
    "    binC_pred = binA * N_DA * N_BA\n",
    "    return binA, binB_pred, binC_pred, binD_pred\n",
    "\n",
    "def getSignalYield(DNN_threshold, baseline_cut):\n",
    "    # Return the signal histogram\n",
    "    this_lambda, this_ctau = extract_num(signal_name)\n",
    "    xs = getSignalXS(signal_name)\n",
    "    xsecOverSumweights = float(xs)/sumWeights\n",
    "    \n",
    "    bin_MET = array.array('d', [0, MET_boundary, 9000])\n",
    "    bin_time = array.array('d', [-2, time_boundary, 25])\n",
    "    \n",
    "    signal_hist = rt.TH2F(\"signal_hist\", \"; Time; MET\", 2, bin_time, 2, bin_MET)\n",
    "    \n",
    "    cut_sig = baseline_cut\n",
    "    cut_sig += \" && pho1DNN > {}\".format(DNN_threshold)\n",
    "    \n",
    "    signal_tree.Draw(\"t1MET:pho1ClusterTime_SmearToData>>signal_hist\", \n",
    "                     \"({cut_sig})*(weight*pileupWeight*triggerEffSFWeight*photonEffSF* \\\n",
    "                     {lumi} * {xsecOverSumweights})\".format(cut_sig=cut_sig,\n",
    "                                                           lumi=lumi,\n",
    "                                                           xsecOverSumweights=xsecOverSumweights))\n",
    "    signal_hist.SetDirectory(0)\n",
    "    return signal_hist\n",
    "\n",
    "def significance(s, b):\n",
    "    if b == 0: return 0\n",
    "    x = 2 * ((s + b) * np.log(1 + float(s/b)) - s)\n",
    "    return np.sqrt(x)\n",
    "\n",
    "def getSignificance(DNN_threshold, baseline_cut):\n",
    "    N_BA, N_DA = getTransferFactor(DNN_threshold, baseline_cut)\n",
    "\n",
    "    binA, binB_pred, binC_pred, binD_pred = getBackgroundPrediction(DNN_threshold, N_BA, N_DA)\n",
    "\n",
    "    signal_hist = getSignalYield(DNN_threshold, baseline_cut)\n",
    "    \n",
    "    binB_sig = signal_hist.GetBinContent(1, 2)\n",
    "    binC_sig = signal_hist.GetBinContent(2, 2)\n",
    "    binD_sig = signal_hist.GetBinContent(2, 1)\n",
    "\n",
    "    ### Get the S/sqrt(B) of each bin\n",
    "\n",
    "    significance_B = significance(binB_sig, binB_pred) #float(binB_sig/np.sqrt(binB_pred))\n",
    "    significance_C = significance(binC_sig, binC_pred) #(float(binC_sig/np.sqrt(binC_pred))\n",
    "    significance_D = significance(binD_sig, binD_pred) #float(binD_sig/np.sqrt(binD_pred))\n",
    "\n",
    "    overall_sig = np.sqrt(np.power(significance_B, 2) \n",
    "                           + np.power(significance_C, 2)\n",
    "                           + np.power(significance_D, 2))\n",
    "    \n",
    "    return overall_sig, significance_B, significance_C, significance_D "
   ]
  },
  {
   "cell_type": "code",
   "execution_count": 5,
   "metadata": {},
   "outputs": [],
   "source": [
    "def relabel(hist):\n",
    "    hist.GetXaxis().SetNdivisions(-2)\n",
    "    hist.GetXaxis().ChangeLabel(2,-1,-1,-1,-1,1, str(time_boundary))\n",
    "    hist.GetYaxis().SetNdivisions(-2)\n",
    "    hist.GetYaxis().ChangeLabel(2,-1,-1,-1,-1,1, str(MET_boundary))\n"
   ]
  },
  {
   "cell_type": "code",
   "execution_count": 6,
   "metadata": {},
   "outputs": [
    {
     "name": "stdout",
     "output_type": "stream",
     "text": [
      "N_BA = 0.043523088735329604, N_DA = 0.0003257611953264127\n"
     ]
    },
    {
     "name": "stderr",
     "output_type": "stream",
     "text": [
      "Warning in <TCanvas::Constructor>: Deleting canvas with same name: c1\n"
     ]
    },
    {
     "data": {
      "image/png": "[encoded data removed]",
      "text/plain": [
       "<IPython.core.display.Image object>"
      ]
     },
     "metadata": {},
     "output_type": "display_data"
    }
   ],
   "source": [
    "# DNN ABCD old trigger\n",
    "DNN_threshold = 0.32\n",
    "\n",
    "N_BA, N_DA = getTransferFactor(DNN_threshold, baseline_cut)\n",
    "print(\"N_BA = {}, N_DA = {}\".format(N_BA, N_DA))\n",
    "binA, binB_pred, binC_pred, binD_pred = getBackgroundPrediction(DNN_threshold, N_BA, N_DA, baseline_cut)\n",
    "\n",
    "signal_yield = getSignalYield(DNN_threshold, baseline_cut)\n",
    "\n",
    "\n",
    "hist_data = rt.TH2F(\"hist_data\", \";#gamma_{cluster time};p_{T}^{miss}\", 2, -2, 25, 2, 0, 9000)\n",
    "hist_data.SetBinContent(1, 1, binA)\n",
    "hist_data.SetBinContent(1, 2, binB_pred)\n",
    "hist_data.SetBinContent(2, 2, binC_pred)\n",
    "hist_data.SetBinContent(2, 1, binD_pred)\n",
    "hist_data.SetDirectory(0)\n",
    "\n",
    "hist_signal = rt.TH2F(\"hist_signal\", \";#gamma_{cluster time};p_{T}^{miss}\", 2, -2, 25, 2, 0, 9000)\n",
    "hist_signal.SetBinContent(1, 1, signal_yield.GetBinContent(1, 1))\n",
    "hist_signal.SetBinContent(1, 2, signal_yield.GetBinContent(1, 2))\n",
    "hist_signal.SetBinContent(2, 2, signal_yield.GetBinContent(2, 2))\n",
    "hist_signal.SetBinContent(2, 1, signal_yield.GetBinContent(2, 1))\n",
    "hist_signal.SetDirectory(0)\n",
    "\n",
    "relabel(hist_data)\n",
    "relabel(hist_signal)\n",
    "\n",
    "c1 = rt.TCanvas(\"c1\",\"\",800,500)\n",
    "c1.cd()\n",
    "pad1 = rt.TPad(\"pad1\", \"\", 0, 0, 0.5, 0.9)\n",
    "pad1.Draw()\n",
    "pad1.cd()\n",
    "hist_data.SetMarkerSize(3)\n",
    "hist_data.Draw(\"COL TEXT\")\n",
    "pad1.SetLogz()\n",
    "c1.cd()\n",
    "pad2 = rt.TPad(\"pad2\", \"\", 0.5, 0, 1, 0.9)\n",
    "pad2.Draw()\n",
    "pad2.cd()\n",
    "hist_signal.SetMarkerSize(3)\n",
    "hist_signal.Draw(\"COL TEXT\")\n",
    "pad2.SetLogz()\n",
    "\n",
    "# Draw title\n",
    "c1.cd()\n",
    "latex = rt.TLatex()\n",
    "latex.SetTextFont(42)\n",
    "latex.SetTextAngle(0)\n",
    "latex.SetTextColor(rt.kBlack)\n",
    "latex.SetTextSize(0.065)\n",
    "latex.SetTextAlign(12)\n",
    "latex.DrawLatexNDC(0.25, 0.90,\"Data\")\n",
    "this_lambda, this_ctau = extract_num(signal_name)\n",
    "signal_text = \"#Lambda={}TeV, c#tau={}cm\".format(this_lambda, this_ctau)\n",
    "latex.DrawLatexNDC(0.62, 0.90, signal_text)\n",
    "\n",
    "c1.Draw()\n"
   ]
  },
  {
   "cell_type": "code",
   "execution_count": 7,
   "metadata": {},
   "outputs": [
    {
     "name": "stdout",
     "output_type": "stream",
     "text": [
      "N_BA = 0.05141496564894963, N_DA = 0.0005280738812202191\n"
     ]
    },
    {
     "name": "stderr",
     "output_type": "stream",
     "text": [
      "Warning in <TCanvas::Constructor>: Deleting canvas with same name: c1\n"
     ]
    },
    {
     "data": {
      "image/png": "[encoded data removed]",
      "text/plain": [
       "<IPython.core.display.Image object>"
      ]
     },
     "metadata": {},
     "output_type": "display_data"
    }
   ],
   "source": [
    "# DNN ABCD inclusive trigger\n",
    "DNN_threshold = 0.32\n",
    "\n",
    "N_BA, N_DA = getTransferFactor(DNN_threshold, baseline_inclusive_cut)\n",
    "print(\"N_BA = {}, N_DA = {}\".format(N_BA, N_DA))\n",
    "binA, binB_pred, binC_pred, binD_pred = getBackgroundPrediction(DNN_threshold, N_BA, N_DA, baseline_inclusive_cut)\n",
    "\n",
    "signal_yield = getSignalYield(DNN_threshold, baseline_inclusive_cut)\n",
    "\n",
    "\n",
    "hist_data = rt.TH2F(\"hist_data\", \";#gamma_{cluster time};p_{T}^{miss}\", 2, -2, 25, 2, 0, 9000)\n",
    "hist_data.SetBinContent(1, 1, binA)\n",
    "hist_data.SetBinContent(1, 2, binB_pred)\n",
    "hist_data.SetBinContent(2, 2, binC_pred)\n",
    "hist_data.SetBinContent(2, 1, binD_pred)\n",
    "hist_data.SetDirectory(0)\n",
    "\n",
    "hist_signal = rt.TH2F(\"hist_signal\", \";#gamma_{cluster time};p_{T}^{miss}\", 2, -2, 25, 2, 0, 9000)\n",
    "hist_signal.SetBinContent(1, 1, signal_yield.GetBinContent(1, 1))\n",
    "hist_signal.SetBinContent(1, 2, signal_yield.GetBinContent(1, 2))\n",
    "hist_signal.SetBinContent(2, 2, signal_yield.GetBinContent(2, 2))\n",
    "hist_signal.SetBinContent(2, 1, signal_yield.GetBinContent(2, 1))\n",
    "hist_signal.SetDirectory(0)\n",
    "\n",
    "relabel(hist_data)\n",
    "relabel(hist_signal)\n",
    "\n",
    "c1 = rt.TCanvas(\"c1\",\"\",800,500)\n",
    "c1.cd()\n",
    "pad1 = rt.TPad(\"pad1\", \"\", 0, 0, 0.5, 0.9)\n",
    "pad1.Draw()\n",
    "pad1.cd()\n",
    "hist_data.SetMarkerSize(3)\n",
    "hist_data.Draw(\"COL TEXT\")\n",
    "pad1.SetLogz()\n",
    "c1.cd()\n",
    "pad2 = rt.TPad(\"pad2\", \"\", 0.5, 0, 1, 0.9)\n",
    "pad2.Draw()\n",
    "pad2.cd()\n",
    "hist_signal.SetMarkerSize(3)\n",
    "hist_signal.Draw(\"COL TEXT\")\n",
    "pad2.SetLogz()\n",
    "\n",
    "# Draw title\n",
    "c1.cd()\n",
    "latex = rt.TLatex()\n",
    "latex.SetTextFont(42)\n",
    "latex.SetTextAngle(0)\n",
    "latex.SetTextColor(rt.kBlack)\n",
    "latex.SetTextSize(0.065)\n",
    "latex.SetTextAlign(12)\n",
    "latex.DrawLatexNDC(0.25, 0.90,\"Data\")\n",
    "this_lambda, this_ctau = extract_num(signal_name)\n",
    "signal_text = \"#Lambda={}TeV, c#tau={}cm\".format(this_lambda, this_ctau)\n",
    "latex.DrawLatexNDC(0.62, 0.90, signal_text)\n",
    "\n",
    "c1.Draw()\n"
   ]
  },
  {
   "cell_type": "code",
   "execution_count": 8,
   "metadata": {},
   "outputs": [
    {
     "name": "stdout",
     "output_type": "stream",
     "text": [
      "Totals signal: 28.814757347106934\n"
     ]
    },
    {
     "name": "stderr",
     "output_type": "stream",
     "text": [
      "Warning in <TCanvas::Constructor>: Deleting canvas with same name: c1\n"
     ]
    },
    {
     "data": {
      "image/png": "[encoded data removed]",
      "text/plain": [
       "<IPython.core.display.Image object>"
      ]
     },
     "metadata": {},
     "output_type": "display_data"
    }
   ],
   "source": [
    "# Cut-based ID ABCD\n",
    "DNN_threshold = -1\n",
    "\n",
    "N_BA, N_DA = getTransferFactor(DNN_threshold, cut_based_id)\n",
    "binA, binB_pred, binC_pred, binD_pred = getBackgroundPrediction(DNN_threshold, N_BA, N_DA, cut_based_id)\n",
    "\n",
    "signal_yield = getSignalYield(DNN_threshold, cut_based_id)\n",
    "\n",
    "\n",
    "hist_data = rt.TH2F(\"hist_data\", \";#gamma_{cluster time};p_{T}^{miss}\", 2, -2, 25, 2, 0, 9000)\n",
    "hist_data.SetBinContent(1, 1, binA)\n",
    "hist_data.SetBinContent(1, 2, binB_pred)\n",
    "hist_data.SetBinContent(2, 2, binC_pred)\n",
    "hist_data.SetBinContent(2, 1, binD_pred)\n",
    "hist_data.SetDirectory(0)\n",
    "\n",
    "hist_signal = rt.TH2F(\"hist_signal\", \";#gamma_{cluster time};p_{T}^{miss}\", 2, -2, 25, 2, 0, 9000)\n",
    "hist_signal.SetBinContent(1, 1, signal_yield.GetBinContent(1, 1))\n",
    "hist_signal.SetBinContent(1, 2, signal_yield.GetBinContent(1, 2))\n",
    "hist_signal.SetBinContent(2, 2, signal_yield.GetBinContent(2, 2))\n",
    "hist_signal.SetBinContent(2, 1, signal_yield.GetBinContent(2, 1))\n",
    "hist_signal.SetDirectory(0)\n",
    "\n",
    "relabel(hist_data)\n",
    "relabel(hist_signal)\n",
    "\n",
    "c1 = rt.TCanvas(\"c1\",\"\",800,500)\n",
    "c1.cd()\n",
    "pad1 = rt.TPad(\"pad1\", \"\", 0, 0, 0.5, 0.9)\n",
    "pad1.Draw()\n",
    "pad1.cd()\n",
    "hist_data.SetMarkerSize(3)\n",
    "hist_data.Draw(\"COL TEXT\")\n",
    "pad1.SetLogz()\n",
    "c1.cd()\n",
    "pad2 = rt.TPad(\"pad2\", \"\", 0.5, 0, 1, 0.9)\n",
    "pad2.Draw()\n",
    "pad2.cd()\n",
    "hist_signal.SetMarkerSize(3)\n",
    "hist_signal.Draw(\"COL TEXT\")\n",
    "pad2.SetLogz()\n",
    "\n",
    "# Draw title\n",
    "c1.cd()\n",
    "latex = rt.TLatex()\n",
    "latex.SetTextFont(42)\n",
    "latex.SetTextAngle(0)\n",
    "latex.SetTextColor(rt.kBlack)\n",
    "latex.SetTextSize(0.065)\n",
    "latex.SetTextAlign(12)\n",
    "latex.DrawLatexNDC(0.25, 0.90,\"Data\")\n",
    "this_lambda, this_ctau = extract_num(signal_name)\n",
    "signal_text = \"#Lambda={}TeV, c#tau={}cm\".format(this_lambda, this_ctau)\n",
    "latex.DrawLatexNDC(0.62, 0.90, signal_text)\n",
    "\n",
    "c1.Draw()\n",
    "\n",
    "print(\"Totals signal: {}\".format(hist_signal.Integral()))"
   ]
  },
  {
   "cell_type": "code",
   "execution_count": 9,
   "metadata": {},
   "outputs": [
    {
     "name": "stdout",
     "output_type": "stream",
     "text": [
      "Totals signal: 34.35115170478821\n"
     ]
    },
    {
     "name": "stderr",
     "output_type": "stream",
     "text": [
      "Warning in <TCanvas::Constructor>: Deleting canvas with same name: c1\n"
     ]
    },
    {
     "data": {
      "image/png": "[encoded data removed]",
      "text/plain": [
       "<IPython.core.display.Image object>"
      ]
     },
     "metadata": {},
     "output_type": "display_data"
    }
   ],
   "source": [
    "# Cut-based ID ABCD inclusive trigger\n",
    "DNN_threshold = -1\n",
    "\n",
    "N_BA, N_DA = getTransferFactor(DNN_threshold, cut_based_id_inclusive)\n",
    "binA, binB_pred, binC_pred, binD_pred = getBackgroundPrediction(DNN_threshold, N_BA, N_DA, cut_based_id_inclusive)\n",
    "\n",
    "signal_yield = getSignalYield(DNN_threshold, cut_based_id_inclusive)\n",
    "\n",
    "\n",
    "hist_data = rt.TH2F(\"hist_data\", \";#gamma_{cluster time};p_{T}^{miss}\", 2, -2, 25, 2, 0, 9000)\n",
    "hist_data.SetBinContent(1, 1, binA)\n",
    "hist_data.SetBinContent(1, 2, binB_pred)\n",
    "hist_data.SetBinContent(2, 2, binC_pred)\n",
    "hist_data.SetBinContent(2, 1, binD_pred)\n",
    "hist_data.SetDirectory(0)\n",
    "\n",
    "hist_signal = rt.TH2F(\"hist_signal\", \";#gamma_{cluster time};p_{T}^{miss}\", 2, -2, 25, 2, 0, 9000)\n",
    "hist_signal.SetBinContent(1, 1, signal_yield.GetBinContent(1, 1))\n",
    "hist_signal.SetBinContent(1, 2, signal_yield.GetBinContent(1, 2))\n",
    "hist_signal.SetBinContent(2, 2, signal_yield.GetBinContent(2, 2))\n",
    "hist_signal.SetBinContent(2, 1, signal_yield.GetBinContent(2, 1))\n",
    "hist_signal.SetDirectory(0)\n",
    "\n",
    "relabel(hist_data)\n",
    "relabel(hist_signal)\n",
    "\n",
    "c1 = rt.TCanvas(\"c1\",\"\",800,500)\n",
    "c1.cd()\n",
    "pad1 = rt.TPad(\"pad1\", \"\", 0, 0, 0.5, 0.9)\n",
    "pad1.Draw()\n",
    "pad1.cd()\n",
    "hist_data.SetMarkerSize(3)\n",
    "hist_data.Draw(\"COL TEXT\")\n",
    "pad1.SetLogz()\n",
    "c1.cd()\n",
    "pad2 = rt.TPad(\"pad2\", \"\", 0.5, 0, 1, 0.9)\n",
    "pad2.Draw()\n",
    "pad2.cd()\n",
    "hist_signal.SetMarkerSize(3)\n",
    "hist_signal.Draw(\"COL TEXT\")\n",
    "pad2.SetLogz()\n",
    "\n",
    "# Draw title\n",
    "c1.cd()\n",
    "latex = rt.TLatex()\n",
    "latex.SetTextFont(42)\n",
    "latex.SetTextAngle(0)\n",
    "latex.SetTextColor(rt.kBlack)\n",
    "latex.SetTextSize(0.065)\n",
    "latex.SetTextAlign(12)\n",
    "latex.DrawLatexNDC(0.25, 0.90,\"Data\")\n",
    "this_lambda, this_ctau = extract_num(signal_name)\n",
    "signal_text = \"#Lambda={}TeV, c#tau={}cm\".format(this_lambda, this_ctau)\n",
    "latex.DrawLatexNDC(0.62, 0.90, signal_text)\n",
    "\n",
    "c1.Draw()\n",
    "print(\"Totals signal: {}\".format(hist_signal.Integral()))"
   ]
  },
  {
   "cell_type": "markdown",
   "metadata": {},
   "source": [
    "### Cross check using cut based ID"
   ]
  },
  {
   "cell_type": "markdown",
   "metadata": {},
   "source": [
    "DNN_threshold = 0\n",
    "signal_hist = rt.TH2F(\"signal_hist\", \"; Time; MET\", 30, -2, 5, 30, 0, 1500)\n",
    "data_hist = rt.TH2F(\"data_hist\", \"; Time; MET\", 30, -2, 5, 30, 0, 1500)\n",
    "\n",
    "this_lambda, this_ctau = extract_num(signal_name)\n",
    "xs = getSignalXS(signal_name)\n",
    "xsecOverSumweights = float(xs)/sumWeights\n",
    "cut_sig = baseline_cut\n",
    "cut_sig += \" && pho1DNN > {}\".format(DNN_threshold)\n",
    "\n",
    "signal_tree.Draw(\"t1MET:pho1ClusterTime_SmearToData>>signal_hist\", \n",
    "                 \"({cut_sig})*(weight*pileupWeight*triggerEffSFWeight*photonEffSF* \\\n",
    "                 {lumi} * {xsecOverSumweights})\".format(cut_sig=cut_sig,\n",
    "                                                       lumi=lumi,\n",
    "                                                       xsecOverSumweights=xsecOverSumweights))\n",
    "\n",
    "data_tree.Draw(\"t1MET:pho1ClusterTime_SmearToData>>data_hist\", \n",
    "                 \"{cut_sig}\".format(cut_sig=cut_sig))\n",
    "\n",
    "c1 = rt.TCanvas(\"c1\",\"\",1250,600)\n",
    "c1.cd()\n",
    "pad1 = rt.TPad(\"pad1\", \"\", 0,0,0.5,1)\n",
    "pad1.Draw()\n",
    "pad1.cd()\n",
    "\n",
    "#data_hist.Draw(\"COLZ\")\n",
    "rt.gPad.SetLogz()\n",
    "c1.cd()\n",
    "pad2 = rt.TPad(\"pad2\",\"\",0.5,0,1,1)\n",
    "pad2.cd()\n",
    "pad2.Draw()\n",
    "signal_hist.Draw(\"COLZ\")\n",
    "rt.gPad.SetLogz()\n",
    "c1.Draw()"
   ]
  },
  {
   "cell_type": "markdown",
   "metadata": {},
   "source": [
    "### Signal with DNN"
   ]
  },
  {
   "cell_type": "markdown",
   "metadata": {},
   "source": [
    "event_cut = 'n_Jets > 2 && n_Photons == 2 && \\\n",
    "             HLTDecision[81] == 1'\n",
    "\n",
    "MET_cut = \" && Flag_HBHENoiseFilter == 1 \\\n",
    "            &&Flag_HBHEIsoNoiseFilter ==1 \\\n",
    "            && Flag_goodVertices == 1 \\\n",
    "            && Flag_eeBadScFilter == 1 \\\n",
    "            && Flag_EcalDeadCellTriggerPrimitiveFilter == 1 \\\n",
    "            && Flag_CSCTightHaloFilter == 1  \\\n",
    "            && Flag_badMuonFilter == 1 \\\n",
    "            && Flag_badGlobalMuonFilter == 0 \\\n",
    "            && Flag_duplicateMuonFilter ==0\"\n",
    "\n",
    "pho_cut = '&& pho1Pt > 70 && abs(pho1Eta)<1.4442 \\\n",
    "            && pho1passEleVeto \\\n",
    "            && abs(pho1HoverE) < 0.08 \\\n",
    "            && pho1R9 > 0.85 && abs(pho1SigmaIetaIeta) < 0.024'\n",
    "# && abs(pho1ecalPFClusterIso) < 7.5 \\\n",
    "#             && abs(pho1hcalPFClusterIso) < 5.0 \\\n",
    "#             && abs(pho1trkSumPtHollowConeDR03) < 7.5 \n",
    "\n",
    "\n",
    "\n",
    "pho_cutbasedID = '&& pho1Pt > 70 \\\n",
    "                && pho1R9 > 0.9 \\\n",
    "                && abs(pho1Eta)<1.4442 \\\n",
    "                && pho1passEleVeto \\\n",
    "                && pho1Sminor<0.4 \\\n",
    "                && pho1passSigmaIetaIetaTight \\\n",
    "                && pho1passHoverETight \\\n",
    "                && pho1passSmajorTight \\\n",
    "                && pho1passIsoTight_comboIso'\n",
    "\n",
    "pho2_cut = '&& pho2SigmaIetaIeta < 0.03 \\\n",
    "            && pho2HoverE < 0.1 \\\n",
    "            && pho2ecalPFClusterIso < 30.0 \\\n",
    "            && pho2sumNeutralHadronEt < 30.0 \\\n",
    "            && pho2trkSumPtHollowConeDR03 < 30.0'\n",
    "\n",
    "baseline_cut = event_cut + pho_cut + MET_cut + pho2_cut\n",
    "cut_based_id = event_cut + pho_cutbasedID + MET_cut + pho2_cut\n",
    "\n",
    "\n",
    "DNN_threshold = 0.\n",
    "signal_hist = rt.TH2F(\"signal_hist\", \"; #gamma_{cluster time}; p_{T}^{miss}\", 30, -2, 5, 30, 0, 1500)\n",
    "\n",
    "this_lambda, this_ctau = extract_num(signal_name)\n",
    "xs = getSignalXS(signal_name)\n",
    "xsecOverSumweights = float(xs)/sumWeights\n",
    "cut_sig = baseline_cut\n",
    "#cut_sig += \" && pho1DNN > {}\".format(DNN_threshold)\n",
    "\n",
    "signal_tree.Draw(\"t1MET:pho1ClusterTime_SmearToData>>signal_hist\", \n",
    "                 \"({cut_sig})*(weight*pileupWeight*triggerEffSFWeight*photonEffSF* \\\n",
    "                 {lumi} * {xsecOverSumweights})\".format(cut_sig=cut_sig,\n",
    "                                                       lumi=lumi,\n",
    "                                                       xsecOverSumweights=xsecOverSumweights))\n",
    "\n",
    "c1 = rt.TCanvas(\"c1\",\"\",750,600)\n",
    "c1.SetRightMargin(0.2)\n",
    "c1.cd()\n",
    "signal_hist.Draw(\"COLZ\")\n",
    "rt.gPad.SetLogz()\n",
    "c1.Draw()\n",
    "\n",
    "print(signal_hist.Integral())"
   ]
  },
  {
   "cell_type": "markdown",
   "metadata": {},
   "source": [
    "### Signal with cut based ID"
   ]
  },
  {
   "cell_type": "markdown",
   "metadata": {},
   "source": [
    "signal_hist = rt.TH2F(\"signal_hist\", \"; Time; MET\", 30, -2, 5, 30, 0, 1500)\n",
    "\n",
    "this_lambda, this_ctau = extract_num(signal_name)\n",
    "xs = getSignalXS(signal_name)\n",
    "xsecOverSumweights = float(xs)/sumWeights\n",
    "cut_sig = cut_based_id\n",
    "\n",
    "signal_tree.Draw(\"t1MET:pho1ClusterTime_SmearToData>>signal_hist\", \n",
    "                 \"({cut_sig})*(weight*pileupWeight*triggerEffSFWeight*photonEffSF* \\\n",
    "                 {lumi} * {xsecOverSumweights})\".format(cut_sig=cut_sig,\n",
    "                                                       lumi=lumi,\n",
    "                                                       xsecOverSumweights=xsecOverSumweights))\n",
    "\n",
    "c1 = rt.TCanvas(\"c1\",\"\",750,600)\n",
    "c1.SetRightMargin(0.2)\n",
    "c1.cd()\n",
    "signal_hist.Draw(\"COLZ\")\n",
    "rt.gPad.SetLogz()\n",
    "c1.Draw()"
   ]
  },
  {
   "cell_type": "markdown",
   "metadata": {},
   "source": [
    "\n",
    "\n",
    "### Time template\n",
    "\n",
    "\n",
    "signal_score = rt.TH1F(\"signal_score\", \";Events;pho1DNN\", 30, 0, 1)\n",
    "\n",
    "this_lambda, this_ctau = extract_num(signal_name)\n",
    "xs = getSignalXS(signal_name)\n",
    "xsecOverSumweights = float(xs)/sumWeights\n",
    "cut_sig = baseline_cut\n",
    "cut_sig += \" && pho1DNN > {}\".format(DNN_threshold)\n",
    "\n",
    "signal_tree.Draw(\"pho1DNN>>signal_score\", \n",
    "                 \"({cut_sig})*(weight*pileupWeight*triggerEffSFWeight*photonEffSF* \\\n",
    "                  {lumi} * {xsecOverSumweights})\".format(cut_sig=cut_sig,\n",
    "                                                       lumi=lumi,\n",
    "                                                       xsecOverSumweights=xsecOverSumweights))\n",
    "\n",
    "signal_score.SetFillColor(rt.kAzure+8)\n",
    "signal_score.SetLineColor(rt.kAzure+9)\n",
    "signal_score.SetLineWidth(2)\n",
    "signal_score.GetYaxis().SetTitleOffset(1.)\n",
    "signal_score.SetDirectory(0)\n",
    "\n",
    "c2 = rt.TCanvas(\"c2\", \"\", 50, 50, W, H)\n",
    "c2.cd()\n",
    "c2.SetLeftMargin(L/W)\n",
    "c2.SetRightMargin(R/W)\n",
    "c2.SetTopMargin(T/W)\n",
    "c2.SetBottomMargin(B/W)\n",
    "\n",
    "signal_score.Draw(\"hist\")\n",
    "rt.gPad.SetLogy()\n",
    "c2.Draw()\n",
    "CMS_lumi.CMS_lumi(c2, iPeriod, iPos)\n",
    "c2.cd()\n",
    "line2 = rt.TLine(time_boundary, 0, time_boundary, 6e4)\n",
    "line2.SetLineStyle(7)\n",
    "line2.SetLineWidth(3)\n",
    "line2.Draw()\n",
    "\n",
    "\n",
    "latex = rt.TLatex()\n",
    "latex.SetTextFont(42)\n",
    "latex.SetTextAngle(0)\n",
    "latex.SetTextColor(rt.kBlack)\n",
    "latex.SetTextSize(0.045)\n",
    "latex.SetTextAlign(12)\n",
    "latex.DrawLatexNDC(0.2, 0.8,\"#Lambda = %d TeV, c#tau = %d\"%(this_lambda, this_ctau))\n"
   ]
  },
  {
   "cell_type": "markdown",
   "metadata": {},
   "source": [
    "### QCD score"
   ]
  },
  {
   "cell_type": "markdown",
   "metadata": {},
   "source": [
    "\n",
    "\n",
    "### Time template\n",
    "\n",
    "\n",
    "signal_score = rt.TH1F(\"signal_score\", \";Events;pho1DNN\", 30, 0, 1)\n",
    "\n",
    "this_lambda, this_ctau = extract_num(signal_name)\n",
    "xs = getSignalXS(signal_name)\n",
    "xsecOverSumweights = float(xs)/sumWeights\n",
    "cut_sig = baseline_cut\n",
    "cut_sig += \" && pho1DNN > {}\".format(DNN_threshold)\n",
    "\n",
    "signal_tree.Draw(\"pho1DNN>>signal_score\", \n",
    "                 \"({cut_sig})*(weight*pileupWeight*triggerEffSFWeight*photonEffSF* \\\n",
    "                  {lumi} * {xsecOverSumweights})\".format(cut_sig=cut_sig,\n",
    "                                                       lumi=lumi,\n",
    "                                                       xsecOverSumweights=xsecOverSumweights))\n",
    "\n",
    "signal_score.SetFillColor(rt.kAzure+8)\n",
    "signal_score.SetLineColor(rt.kAzure+9)\n",
    "signal_score.SetLineWidth(2)\n",
    "signal_score.GetYaxis().SetTitleOffset(1.)\n",
    "signal_score.SetDirectory(0)\n",
    "\n",
    "c2 = rt.TCanvas(\"c2\", \"\", 50, 50, W, H)\n",
    "c2.cd()\n",
    "c2.SetLeftMargin(L/W)\n",
    "c2.SetRightMargin(R/W)\n",
    "c2.SetTopMargin(T/W)\n",
    "c2.SetBottomMargin(B/W)\n",
    "\n",
    "signal_score.Draw(\"hist\")\n",
    "rt.gPad.SetLogy()\n",
    "c2.Draw()\n",
    "CMS_lumi.CMS_lumi(c2, iPeriod, iPos)\n",
    "c2.cd()\n",
    "line2 = rt.TLine(time_boundary, 0, time_boundary, 6e4)\n",
    "line2.SetLineStyle(7)\n",
    "line2.SetLineWidth(3)\n",
    "line2.Draw()\n",
    "\n",
    "\n",
    "latex = rt.TLatex()\n",
    "latex.SetTextFont(42)\n",
    "latex.SetTextAngle(0)\n",
    "latex.SetTextColor(rt.kBlack)\n",
    "latex.SetTextSize(0.045)\n",
    "latex.SetTextAlign(12)\n",
    "latex.DrawLatexNDC(0.2, 0.8,\"#Lambda = %d TeV, c#tau = %d\"%(this_lambda, this_ctau))\n"
   ]
  },
  {
   "cell_type": "markdown",
   "metadata": {},
   "source": [
    "### Optimizing threshold"
   ]
  },
  {
   "cell_type": "markdown",
   "metadata": {},
   "source": [
    "DNN_thresholds = np.linspace(0, 1, 10)\n",
    "overall_significance = []\n",
    "significance_B = []\n",
    "significance_C = []\n",
    "significance_D = []\n",
    "\n",
    "for thres in DNN_thresholds:\n",
    "    sig = getSignificance(thres, baseline_cut)\n",
    "    overall_significance.append(sig[0])\n",
    "    significance_B.append(sig[1])\n",
    "    significance_C.append(sig[2])\n",
    "    significance_D.append(sig[3])"
   ]
  },
  {
   "cell_type": "markdown",
   "metadata": {},
   "source": [
    "plt.figure(figsize=(7,7))\n",
    "plt.plot(DNN_thresholds, overall_significance, label='Bin B+C+D')\n",
    "plt.plot(DNN_thresholds, significance_B, label='Bin B')\n",
    "plt.plot(DNN_thresholds, significance_C, label='Bin C')\n",
    "plt.plot(DNN_thresholds, significance_D, label='Bin D')\n",
    "plt.xlabel('$\\gamma_1$ DNN score', fontsize=15)\n",
    "plt.ylabel('Significance', fontsize=15)\n",
    "plt.hlines(sig_cutbased[0], 0, 1, linestyle='--', label='Cut based ID')\n",
    "best_sig_idx = np.argmax(overall_significance)\n",
    "plt.legend(loc='best', frameon=0, fontsize=15)\n",
    "title = r\"$\\Lambda$=%dTeV, c$\\tau$=%dcm\"%(this_lambda, this_ctau)\n",
    "plt.title(title, fontsize=15)\n",
    "print(\"best significance = {:.2f} at DNN threshold {:.2f}\".format(overall_significance[best_sig_idx],\n",
    "                                                                 DNN_thresholds[best_sig_idx]))"
   ]
  },
  {
   "cell_type": "markdown",
   "metadata": {},
   "source": [
    "significance(s=0.075, b=9.9)"
   ]
  },
  {
   "cell_type": "markdown",
   "metadata": {},
   "source": [
    "significance(s=0.29, b=13.12)"
   ]
  },
  {
   "cell_type": "code",
   "execution_count": 21,
   "metadata": {},
   "outputs": [
    {
     "name": "stdout",
     "output_type": "stream",
     "text": [
      "{80: 28.927149258553982, 81: 28.814757637679577, 82: 30.272211246192455, 84: 28.814757637679577, 85: 30.076220951974392, 86: 30.13645764440298, 87: 29.503425143659115, 101: 33.27020028978586, 102: 33.59054846316576, 103: 31.46679725497961, 104: 30.445465050637722, 112: 33.29228741675615, 116: 33.580149706453085, 220: 29.14488484710455, 221: 28.96341111510992, 245: 34.67657943442464, 246: 34.419246423989534}\n"
     ]
    }
   ],
   "source": [
    "trigger_to_scan = [80, 81, 82, 84, 85, 86, 87, 101, 102, 103, 104, 112, 116, 220, 221, 245, 246]\n",
    "\n",
    "no_trigger_baseline_cut = event_cut + pho_cutbasedID + MET_cut + pho2_cut\n",
    "signal_hist = {}\n",
    "trigger_evtCount = {}\n",
    "\n",
    "this_lambda, this_ctau = extract_num(signal_name)\n",
    "xs = getSignalXS(signal_name)\n",
    "xsecOverSumweights = float(xs)/sumWeights\n",
    "\n",
    "for trigger in trigger_to_scan:\n",
    "    trigger_cut = '&& (HLTDecision[81] == 1 || HLTDecision[{}] == 1)'.format(trigger)\n",
    "    this_cut = no_trigger_baseline_cut + trigger_cut \n",
    "    this_selection = \"({this_cut}) * weight * \\\n",
    "                        pileupWeight * \\\n",
    "                        triggerEffSFWeight * \\\n",
    "                        photonEffSF * {lumi} \\\n",
    "                        * {xsecOverSumweights}\".format(this_cut=this_cut,\n",
    "                                                      lumi=lumi,\n",
    "                                                      xsecOverSumweights=xsecOverSumweights)\n",
    "    signal_hist[trigger] = rt.TH1F(\"signal_hist{}\".format(trigger), \"; #gamma_{cluster time} (ns)\", 80, -2, 25)\n",
    "    signal_tree.Draw(\"pho1ClusterTime_SmearToData >> signal_hist{}\".format(trigger), this_selection)\n",
    "    trigger_evtCount[trigger] = signal_hist[trigger].Integral()\n",
    "    \n",
    "print(trigger_evtCount)"
   ]
  },
  {
   "cell_type": "code",
   "execution_count": 22,
   "metadata": {},
   "outputs": [
    {
     "name": "stdout",
     "output_type": "stream",
     "text": [
      "80 28.93 +0.39%\n",
      "81 28.81 +0.00%\n",
      "82 30.27 +5.06%\n",
      "84 28.81 +0.00%\n",
      "85 30.08 +4.38%\n",
      "86 30.14 +4.59%\n",
      "87 29.50 +2.39%\n",
      "101 33.27 +15.46%\n",
      "102 33.59 +16.57%\n",
      "103 31.47 +9.20%\n",
      "104 30.45 +5.66%\n",
      "112 33.29 +15.54%\n",
      "116 33.58 +16.54%\n",
      "220 29.14 +1.15%\n",
      "221 28.96 +0.52%\n",
      "245 34.68 +20.34%\n",
      "246 34.42 +19.45%\n"
     ]
    }
   ],
   "source": [
    "for trigger in trigger_evtCount:\n",
    "    base_num = trigger_evtCount[81]\n",
    "    print(trigger, \"{:.2f}\".format(trigger_evtCount[trigger]), \"+{:.2f}%\".format((trigger_evtCount[trigger]/base_num-1)*100))"
   ]
  },
  {
   "cell_type": "code",
   "execution_count": 37,
   "metadata": {},
   "outputs": [
    {
     "name": "stdout",
     "output_type": "stream",
     "text": [
      "34.78153784945607\n",
      "0.20707376014761425\n"
     ]
    },
    {
     "name": "stderr",
     "output_type": "stream",
     "text": [
      "Warning in <TFile::Append>: Replacing existing TH1: signal_hist (Potential memory leak).\n"
     ]
    }
   ],
   "source": [
    "no_trigger_baseline_cut = event_cut + pho_cutbasedID + MET_cut + pho2_cut\n",
    "trigger_cut = '&& (HLTDecision[81] == 1 \\\n",
    "                 || HLTDecision[245] == 1 \\\n",
    "                 || HLTDecision[102] == 1)'\n",
    "this_cut = no_trigger_baseline_cut + trigger_cut \n",
    "this_selection = \"({this_cut}) * weight * \\\n",
    "                        pileupWeight * \\\n",
    "                        triggerEffSFWeight * \\\n",
    "                        photonEffSF * {lumi} \\\n",
    "                        * {xsecOverSumweights}\".format(this_cut=this_cut,\n",
    "                                                      lumi=lumi,\n",
    "                                                      xsecOverSumweights=xsecOverSumweights)\n",
    "signal_hist = rt.TH1F(\"signal_hist\".format(trigger), \"; #gamma_{cluster time} (ns)\", 80, -2, 25)\n",
    "signal_tree.Draw(\"pho1ClusterTime_SmearToData >> signal_hist\".format(trigger), this_selection)\n",
    "print(signal_hist.Integral())\n",
    "print(signal_hist.Integral()/trigger_evtCount[81] - 1)"
   ]
  },
  {
   "cell_type": "code",
   "execution_count": 36,
   "metadata": {},
   "outputs": [
    {
     "name": "stdout",
     "output_type": "stream",
     "text": [
      "33.59054846316576\n",
      "0.16574114158923647\n"
     ]
    },
    {
     "name": "stderr",
     "output_type": "stream",
     "text": [
      "Warning in <TFile::Append>: Replacing existing TH1: signal_hist (Potential memory leak).\n"
     ]
    }
   ],
   "source": [
    "no_trigger_baseline_cut = event_cut + pho_cutbasedID + MET_cut + pho2_cut\n",
    "trigger_cut = '&& (HLTDecision[81] == 1 || HLTDecision[102] == 1)'\n",
    "this_cut = no_trigger_baseline_cut + trigger_cut \n",
    "this_selection = \"({this_cut}) * weight * \\\n",
    "                        pileupWeight * \\\n",
    "                        triggerEffSFWeight * \\\n",
    "                        photonEffSF * {lumi} \\\n",
    "                        * {xsecOverSumweights}\".format(this_cut=this_cut,\n",
    "                                                      lumi=lumi,\n",
    "                                                      xsecOverSumweights=xsecOverSumweights)\n",
    "signal_hist = rt.TH1F(\"signal_hist\".format(trigger), \"; #gamma_{cluster time} (ns)\", 80, -2, 25)\n",
    "signal_tree.Draw(\"pho1ClusterTime_SmearToData >> signal_hist\".format(trigger), this_selection)\n",
    "print(signal_hist.Integral())\n",
    "print(signal_hist.Integral()/trigger_evtCount[81] - 1)"
   ]
  },
  {
   "cell_type": "code",
   "execution_count": 39,
   "metadata": {},
   "outputs": [
    {
     "name": "stdout",
     "output_type": "stream",
     "text": [
      "34.67657943442464\n",
      "0.20343123723101741\n"
     ]
    },
    {
     "name": "stderr",
     "output_type": "stream",
     "text": [
      "Warning in <TFile::Append>: Replacing existing TH1: signal_hist (Potential memory leak).\n"
     ]
    }
   ],
   "source": [
    "no_trigger_baseline_cut = event_cut + pho_cutbasedID + MET_cut + pho2_cut\n",
    "trigger_cut = '&& (HLTDecision[81] == 1 || HLTDecision[245] == 1 )'\n",
    "this_cut = no_trigger_baseline_cut + trigger_cut \n",
    "this_selection = \"({this_cut}) * weight * \\\n",
    "                        pileupWeight * \\\n",
    "                        triggerEffSFWeight * \\\n",
    "                        photonEffSF * {lumi} \\\n",
    "                        * {xsecOverSumweights}\".format(this_cut=this_cut,\n",
    "                                                      lumi=lumi,\n",
    "                                                      xsecOverSumweights=xsecOverSumweights)\n",
    "signal_hist = rt.TH1F(\"signal_hist\".format(trigger), \"; #gamma_{cluster time} (ns)\", 80, -2, 25)\n",
    "signal_tree.Draw(\"pho1ClusterTime_SmearToData >> signal_hist\".format(trigger), this_selection)\n",
    "print(signal_hist.Integral())\n",
    "print(signal_hist.Integral()/trigger_evtCount[81] - 1)"
   ]
  },
  {
   "cell_type": "code",
   "execution_count": 51,
   "metadata": {},
   "outputs": [
    {
     "name": "stdout",
     "output_type": "stream",
     "text": [
      "5.184697151184082\n",
      "-0.8200679937559384\n"
     ]
    },
    {
     "name": "stderr",
     "output_type": "stream",
     "text": [
      "Warning in <TFile::Append>: Replacing existing TH1: signal_hist (Potential memory leak).\n"
     ]
    }
   ],
   "source": [
    "no_trigger_baseline_cut = event_cut + pho_cutbasedID + MET_cut + pho2_cut\n",
    "trigger_cut = '&& (HLTDecision[245] == 1 && HLTDecision[102] == 0)'\n",
    "this_cut = no_trigger_baseline_cut + trigger_cut \n",
    "this_selection = \"({this_cut}) * weight * \\\n",
    "                        pileupWeight * \\\n",
    "                        triggerEffSFWeight * \\\n",
    "                        photonEffSF * {lumi} \\\n",
    "                        * {xsecOverSumweights}\".format(this_cut=this_cut,\n",
    "                                                      lumi=lumi,\n",
    "                                                      xsecOverSumweights=xsecOverSumweights)\n",
    "signal_hist = rt.TH1F(\"signal_hist\".format(trigger), \"; #gamma_{cluster time} (ns)\", 80, -2, 25)\n",
    "signal_tree.Draw(\"pho1ClusterTime_SmearToData >> signal_hist\".format(trigger), this_selection)\n",
    "print(signal_hist.Integral())\n",
    "print(signal_hist.Integral()/trigger_evtCount[81] - 1)"
   ]
  },
  {
   "cell_type": "code",
   "execution_count": null,
   "metadata": {},
   "outputs": [],
   "source": []
  }
 ],
 "metadata": {
  "kernelspec": {
   "display_name": "Python 3",
   "language": "python",
   "name": "python3"
  },
  "language_info": {
   "codemirror_mode": {
    "name": "ipython",
    "version": 3
   },
   "file_extension": ".py",
   "mimetype": "text/x-python",
   "name": "python",
   "nbconvert_exporter": "python",
   "pygments_lexer": "ipython3",
   "version": "3.6.8"
  }
 },
 "nbformat": 4,
 "nbformat_minor": 2
}
