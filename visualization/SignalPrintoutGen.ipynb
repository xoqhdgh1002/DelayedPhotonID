{
 "cells": [
  {
   "cell_type": "code",
   "execution_count": 1,
   "metadata": {},
   "outputs": [
    {
     "name": "stdout",
     "output_type": "stream",
     "text": [
      "Welcome to JupyROOT 6.18/02\n"
     ]
    }
   ],
   "source": [
    "import ROOT as rt"
   ]
  },
  {
   "cell_type": "code",
   "execution_count": 2,
   "metadata": {},
   "outputs": [],
   "source": [
    "base_dir = '/mnt/hadoop/store/group/phys_susy/razor/run2/Run2DelayedPhotonNtuple/MC2016/MC2016CentralGMSB/'\n",
    "file1 = base_dir+'GMSB_L-400TeV_Ctau-10cm_13TeV-pythia8/crab_prod_Run2DelayedPhotonNtupler_MC2016_GMSB_L400TeV_Ctau-10cm_central/200421_155901/0000/razorNtuple_1.root'\n",
    "file2 = base_dir+'GMSB_L-100TeV_Ctau-10cm_13TeV-pythia8/crab_prod_Run2DelayedPhotonNtupler_MC2016_GMSB_L100TeV_Ctau-10cm_central/200421_145711/0000/razorNtuple_1.root'\n"
   ]
  },
  {
   "cell_type": "code",
   "execution_count": null,
   "metadata": {},
   "outputs": [],
   "source": [
    "file1in = rt.TFile.Open(file1,\"READ\")\n",
    "file1tree = file1in.Get(\"ntuples/RazorEvents\")\n",
    "file1tree.Scan(\"gParticleId:gParticleStatus:gParticleMotherId:gParticleMotherIndex:gParticlePt:sqrt(gParticleE**2-gParticlePx**2-gParticlePy**2-gParticlePz**2):gParticleDecayVertexZ\",\"\",\"colsize=24\")"
   ]
  },
  {
   "cell_type": "code",
   "execution_count": null,
   "metadata": {},
   "outputs": [],
   "source": []
  }
 ],
 "metadata": {
  "kernelspec": {
   "display_name": "Python 3",
   "language": "python",
   "name": "python3"
  },
  "language_info": {
   "codemirror_mode": {
    "name": "ipython",
    "version": 3
   },
   "file_extension": ".py",
   "mimetype": "text/x-python",
   "name": "python",
   "nbconvert_exporter": "python",
   "pygments_lexer": "ipython3",
   "version": "3.6.8"
  }
 },
 "nbformat": 4,
 "nbformat_minor": 2
}
